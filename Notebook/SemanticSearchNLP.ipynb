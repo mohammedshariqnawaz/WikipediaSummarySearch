{
 "cells": [
  {
   "cell_type": "code",
   "execution_count": null,
   "metadata": {},
   "outputs": [],
   "source": [
    "!pip install -U sentence-transformers"
   ]
  },
  {
   "cell_type": "code",
   "execution_count": 2,
   "metadata": {},
   "outputs": [],
   "source": [
    "import numpy as np\n",
    "import pandas as pd\n",
    "import pickle\n",
    "from sentence_transformers import SentenceTransformer, util\n",
    "import torch, gc\n",
    "\n",
    "# gc.collect()\n",
    "# torch.cuda.empty_cache()\n",
    "# device = torch.device(\"cpu\")"
   ]
  },
  {
   "cell_type": "code",
   "execution_count": null,
   "metadata": {},
   "outputs": [],
   "source": [
    "# print(device)"
   ]
  },
  {
   "cell_type": "code",
   "execution_count": 3,
   "metadata": {
    "scrolled": true
   },
   "outputs": [
    {
     "name": "stdout",
     "output_type": "stream",
     "text": [
      "5315384\n"
     ]
    }
   ],
   "source": [
    "wiki_data = []\n",
    "with open('tokenized.txt','r',encoding='utf8') as file:\n",
    "    for line in enumerate(file):\n",
    "        wiki_data.append(line)\n",
    "\n",
    "print(len(wiki_data))"
   ]
  },
  {
   "cell_type": "code",
   "execution_count": 4,
   "metadata": {
    "scrolled": true
   },
   "outputs": [],
   "source": [
    "model = SentenceTransformer('sentence-transformers/all-MiniLM-L12-v2')\n",
    "# model = SentenceTransformer('sentence-transformers/paraphrase-albert-small-v2')"
   ]
  },
  {
   "cell_type": "code",
   "execution_count": 5,
   "metadata": {
    "scrolled": true
   },
   "outputs": [
    {
     "data": {
      "application/vnd.jupyter.widget-view+json": {
       "model_id": "d8be6767fbb04c11b9ac3a0e173a5801",
       "version_major": 2,
       "version_minor": 0
      },
      "text/plain": [
       "HBox(children=(HTML(value='Batches'), FloatProgress(value=0.0, max=166106.0), HTML(value='')))"
      ]
     },
     "metadata": {},
     "output_type": "display_data"
    },
    {
     "name": "stdout",
     "output_type": "stream",
     "text": [
      "\n"
     ]
    }
   ],
   "source": [
    "# encode corpus to get corpus embeddings\n",
    "\n",
    "# gc.collect()\n",
    "# torch.cuda.empty_cache()\n",
    "\n",
    "data_embeddings = model.encode(wiki_data, show_progress_bar = True)\n",
    "# data_embeddings = model.encode(wiki_data,batch_size=1,convert_to_tensor=True,show_progress_bar = True)\n",
    "\n"
   ]
  },
  {
   "cell_type": "code",
   "execution_count": 6,
   "metadata": {},
   "outputs": [],
   "source": [
    "#Store sentences & embeddings on disc\n",
    "with open('embeddings.pkl', \"wb\") as fOut:\n",
    "    pickle.dump({'wiki_data': wiki_data, 'data_embeddings': data_embeddings}, fOut, protocol=pickle.HIGHEST_PROTOCOL)"
   ]
  },
  {
   "cell_type": "code",
   "execution_count": 6,
   "metadata": {},
   "outputs": [
    {
     "name": "stdout",
     "output_type": "stream",
     "text": [
      "5315384\n"
     ]
    }
   ],
   "source": [
    "with open('embeddings.pkl', \"rb\") as fIn:\n",
    "    stored_data = pickle.load(fIn)\n",
    "    wiki_data = stored_data['wiki_data']\n",
    "    data_embeddings = stored_data['data_embeddings']\n",
    "\n",
    "print(len(wiki_data))"
   ]
  },
  {
   "cell_type": "code",
   "execution_count": null,
   "metadata": {},
   "outputs": [],
   "source": [
    "# #Load corpus and embeddings from disc\n",
    "# with open('embeddings.pkl','rb') as fIn:\n",
    "#     stored_data = pickle.load(fIn)\n",
    "#     wiki_data = stored_data['wiki_data']\n",
    "#     data_embeddings = stored_data['data_embeddings']"
   ]
  },
  {
   "cell_type": "code",
   "execution_count": 7,
   "metadata": {},
   "outputs": [
    {
     "data": {
      "application/vnd.jupyter.widget-view+json": {
       "model_id": "88a0d98dfc2e44db9e984755cd5126eb",
       "version_major": 2,
       "version_minor": 0
      },
      "text/plain": [
       "HBox(children=(HTML(value='Batches'), FloatProgress(value=0.0, max=1.0), HTML(value='')))"
      ]
     },
     "metadata": {},
     "output_type": "display_data"
    },
    {
     "name": "stdout",
     "output_type": "stream",
     "text": [
      "\n"
     ]
    }
   ],
   "source": [
    "input_query = \"Motorcycle ||| This is a sound made by the catA motorcycle, often called a motorbike, bike, or cycle, is a two- or three-wheeled motor vehicle. Motorcycle design varies greatly to suit a range of different purposes: long-distance travel, commuting, cruising, sport (including racing), and off-road riding. Motorcycling is riding a motorcycle and being involved in other related social activity such as joining a motorcycle club and attending motorcycle rallies. The 1885 Daimler Reitwagen made by Gottlieb Daimler and Wilhelm Maybach in Germany was the first internal combustion, petroleum-fueled motorcycle. In 1894, Hildebrand & Wolfmüller became the first series production motorcycle. In 2014, the three top motorcycle producers globally by volume were Honda (28%), Yamaha (17%) (both from Japan), and Hero MotoCorp (India).[6] In developing countries, motorcycles are considered utilitarian due to lower prices and greater fuel economy. Of all the motorcycles in the world, 58% are in the Asia-Pacific and Southern and Eastern Asia regions, excluding car-centric Japan.\"\n",
    "\n",
    "# encode sentence to get sentence embeddings\n",
    "sentence_embedding = model.encode(input_query,show_progress_bar=True)\n"
   ]
  },
  {
   "cell_type": "code",
   "execution_count": 8,
   "metadata": {},
   "outputs": [],
   "source": [
    "\n",
    "# top_k results to return\n",
    "top_k=3\n",
    "\n",
    "# compute similarity scores of the sentence with the corpus\n",
    "cos_scores = util.pytorch_cos_sim(sentence_embedding, data_embeddings)[0]\n"
   ]
  },
  {
   "cell_type": "code",
   "execution_count": 10,
   "metadata": {},
   "outputs": [
    {
     "name": "stdout",
     "output_type": "stream",
     "text": [
      "Input Query: Motorcycle ||| This is a sound made by the catA motorcycle, often called a motorbike, bike, or cycle, is a two- or three-wheeled motor vehicle. Motorcycle design varies greatly to suit a range of different purposes: long-distance travel, commuting, cruising, sport (including racing), and off-road riding. Motorcycling is riding a motorcycle and being involved in other related social activity such as joining a motorcycle club and attending motorcycle rallies. The 1885 Daimler Reitwagen made by Gottlieb Daimler and Wilhelm Maybach in Germany was the first internal combustion, petroleum-fueled motorcycle. In 1894, Hildebrand & Wolfmüller became the first series production motorcycle. In 2014, the three top motorcycle producers globally by volume were Honda (28%), Yamaha (17%) (both from Japan), and Hero MotoCorp (India).[6] In developing countries, motorcycles are considered utilitarian due to lower prices and greater fuel economy. Of all the motorcycles in the world, 58% are in the Asia-Pacific and Southern and Eastern Asia regions, excluding car-centric Japan. \n",
      "\n",
      "Top 3 most similar sentences in corpus:\n",
      "(9717, 'Motorcycle ||| A motorcycle often called a bike , motorbike , or cycle is a two- or three-wheeled motor vehicle . Motorcycle design varies greatly to suit a range of different purposes : long distance travel , commuting , cruising , sport including racing , and off-road riding . Motorcycling is riding a motorcycle and related social activity such as joining a motorcycle club and attending motorcycle rallies . In 1894 , Hildebrand & Wolfmüller became the first series production motorcycle , and the first to be called a motorcycle . In 2014 , the three top motorcycle producers globally by volume were Honda , Yamaha ( both from Japan ) , and Hero MotoCorp ( India ) . In developing countries , motorcycles are overwhelmingly utilitarian due to lower prices and greater fuel economy . Of all the motorcycles in the world , 58 % are in the Asia-Pacific and Southern and Eastern Asia regions , excluding car-centric Japan . According to the United States Department of Transportation the number of fatalities per vehicle mile traveled was 37 times higher for motorcycles than for cars .\\n') (Score: 0.8352)\n",
      "\n",
      "\n",
      "(1543853, \"Motorcycle ( disambiguation ) ||| A motorcycle is a single-track two-wheeled motor vehicle . It is also known as a motorbike . Motorcycle may also refer to : Motor Cycle ( magazine ) , a UK publication from 1962 , previously named The Motor Cycle Motor Cycle Weekly ( magazine ) , a UK publication from 1977 , previously named Motor Cycle and The Motor Cycle Motorcycle Mechanics ( magazine ) , a UK publication from 1959 Electric motorcycles and scooters , vehicles with two or three wheels that use electric motors to attain locomotion Moped , a class of low-powered motorized vehicles , generally with two wheels Motorized bicycle , a bicycle with an attached motor used to assist with pedalling Motorized scooter , a vehicle consisting of a footboard mounted on two wheels and a long steering handle , propelled by a small motor Motorized tricycle , similar to a motorcycle , but with three wheels Motor scooter , a two-wheeled motorized vehicle with a step-through frame Motorcycles ( film ) , a 1949 Czech film David Mann ( artist ) , a painter of biker culture Gabriel & Dresden 's trance act formed by the duo and Jes Brieden Motorcycle , a song by the Devonshire band The Rumble Strips MotorCycle , a 1993 album by rock band Daniel Amos Motorcycle ( band ) , 2003-2005 Band consisting of Jes Brieden , Josh Gabriel and Dave Dresden . Motor-Cycle ( album ) , an album by Lotti Golden on Atlantic Records\\n\") (Score: 0.7680)\n",
      "\n",
      "\n",
      "(1420202, \"History of the motorcycle ||| The history of the motorcycle begins in the second half of the 19th century . Motorcycles are descended from the `` safety bicycle , '' a bicycle with front and rear wheels of the same size and a pedal crank mechanism to drive the rear wheel . Despite some early landmarks in its development , the motorcycle lacks a rigid pedigree that can be traced back to a single idea or machine . Instead , the idea seems to have occurred to numerous engineers and inventors around Europe at around the same time .\\n\") (Score: 0.7516)\n",
      "\n",
      "\n",
      "DONE\n"
     ]
    }
   ],
   "source": [
    "\n",
    "# Sort the results in decreasing order and get the first top_k\n",
    "top_results = np.argpartition(-cos_scores, range(top_k))[0:top_k]\n",
    "\n",
    "print(\"Input Query:\", input_query, \"\\n\")\n",
    "print(\"Top\", top_k, \"most similar sentences in corpus:\")\n",
    "for i in top_results[0:top_k]:\n",
    "    print(wiki_data[i], \"(Score: %.4f)\" % (cos_scores[i]))\n",
    "    print('\\n')\n",
    "\n",
    "print(\"DONE\")"
   ]
  },
  {
   "cell_type": "code",
   "execution_count": 16,
   "metadata": {
    "scrolled": true
   },
   "outputs": [
    {
     "data": {
      "application/vnd.jupyter.widget-view+json": {
       "model_id": "670eb858ed5846cd950d02c30be0d297",
       "version_major": 2,
       "version_minor": 0
      },
      "text/plain": [
       "HBox(children=(HTML(value='Batches'), FloatProgress(value=0.0, max=1.0), HTML(value='')))"
      ]
     },
     "metadata": {},
     "output_type": "display_data"
    },
    {
     "name": "stdout",
     "output_type": "stream",
     "text": [
      "\n",
      "Input Query: Programming language ||| A programming language is a formal language comprising a set of strings that produce various kinds of machine code output. Programming languages are one kind of computer language, and are used in computer programming to implement algorithms.Most programming languages consist of instructions for computers. There are programmable machines that use a set of specific instructions, rather than general programming languages. Since the early 1800s, programs have been used to direct the behavior of machines such as Jacquard looms, music boxes and player pianos.[1] The programs for these machines (such as a player piano's scrolls) did not produce different behavior in response to different inputs or conditions.Thousands of different programming languages have been created, and more are being created every year. Many programming languages are written in an imperative form (i.e., as a sequence of operations to perform) while other languages use the declarative form (i.e. the desired result is specified, not how to achieve it).The description of a programming language is usually split into the two components of syntax (form) and semantics (meaning). Some languages are defined by a specification document (for example, the C programming language is specified by an ISO Standard) while other languages (such as Perl) have a dominant implementation that is treated as a reference. Some languages have both, with the basic language defined by a standard and extensions taken from the dominant implementation being common \n",
      "\n",
      "Top 3 most similar sentences in corpus:\n",
      "(32315, \"Computer language ||| Computer language may refer to : Programming language , a formal language designed to communicate instructions to a machine , particularly a computer Command language , a language used to control the tasks of the computer itself , such as starting other programs Machine language or machine code , a set of instructions executed directly by a computer 's central processing unit Markup language , a grammar for annotating a document in a way that is syntactically distinguishable from the text , such as HTML Style sheet language , a computer language that expresses the presentation of structured documents , such as CSS Configuration language , a language used to write configuration files Construction language , a general category that includes configuration languages , toolkit languages , and programming languages Query language , a language used to make queries in databases and information systems Modeling language , a formal language used to express information or knowledge , often for use in computer system design Hardware description language , used to model integrated circuits\\n\") (Score: 0.7909)\n",
      "\n",
      "\n",
      "(2608, \"Computer program ||| A computer program is a collection of instructions that performs a specific task when executed by a computer . A computer requires programs to function and typically executes the program 's instructions in a central processing unit . A computer program is usually written by a computer programmer in a programming language . From the program in its human-readable form of source code , a compiler can derive machine code—a form consisting of instructions that the computer can directly execute . Alternatively , a computer program may be executed with the aid of an interpreter . A part of a computer program that performs a well-defined task is known as an algorithm . A collection of computer programs , libraries , and related data are referred to as software . Computer programs may be categorized along functional lines , such as application software or system software .\\n\") (Score: 0.7744)\n",
      "\n",
      "\n",
      "(2329692, 'Program ( machine ) ||| A program is a set of instructions used to control the behavior of a machine , often a computer ( in this case it is known as a computer program ) . Examples of programs include : The sequence of cards used by a Jacquard loom to produce a given pattern within weaved cloth . Invented in 1801 , it used holes in punched cards to represent sewing loom arm movements in order to generate decorative patterns automatically . A computer program list of instructions to be executed by a computer . Barrels , punched cards and music rolls encoding music to be played by player pianos , fairground organs , barrel organs and music boxes . The execution of a program is a series of actions following the instructions it contains . Each instruction produces effects that alter the state of the machine according to its predefined meaning . While some machines are called programmable , for example a programmable thermostat or a musical synthesizer , they are in fact just devices which allow their users to select among a fixed set of a variety of options , rather than being controlled by programs written in a language ( be it textual , visual or otherwise ) .\\n') (Score: 0.7724)\n",
      "\n",
      "\n"
     ]
    }
   ],
   "source": [
    "input_query_1 = \"Programming language ||| A programming language is a formal language comprising a set of strings that produce various kinds of machine code output. Programming languages are one kind of computer language, and are used in computer programming to implement algorithms.Most programming languages consist of instructions for computers. There are programmable machines that use a set of specific instructions, rather than general programming languages. Since the early 1800s, programs have been used to direct the behavior of machines such as Jacquard looms, music boxes and player pianos.[1] The programs for these machines (such as a player piano's scrolls) did not produce different behavior in response to different inputs or conditions.Thousands of different programming languages have been created, and more are being created every year. Many programming languages are written in an imperative form (i.e., as a sequence of operations to perform) while other languages use the declarative form (i.e. the desired result is specified, not how to achieve it).The description of a programming language is usually split into the two components of syntax (form) and semantics (meaning). Some languages are defined by a specification document (for example, the C programming language is specified by an ISO Standard) while other languages (such as Perl) have a dominant implementation that is treated as a reference. Some languages have both, with the basic language defined by a standard and extensions taken from the dominant implementation being common\"\n",
    "\n",
    "# encode sentence to get sentence embeddings\n",
    "sentence_embedding_1 = model.encode(input_query_1,show_progress_bar=True)\n",
    "\n",
    "# top_k results to return\n",
    "top_k=3\n",
    "\n",
    "# compute similarity scores of the sentence with the corpus\n",
    "cos_scores = util.pytorch_cos_sim(sentence_embedding_1, data_embeddings)[0]\n",
    "\n",
    "\n",
    "# Sort the results in decreasing order and get the first top_k\n",
    "top_results = np.argpartition(-cos_scores, range(top_k))[0:top_k]\n",
    "\n",
    "print(\"Input Query:\", input_query_1, \"\\n\")\n",
    "print(\"Top\", top_k, \"most similar sentences in corpus:\")\n",
    "for i in top_results[0:top_k]:\n",
    "    print(wiki_data[i], \"(Score: %.4f)\" % (cos_scores[i]))\n",
    "    print('\\n')"
   ]
  },
  {
   "cell_type": "code",
   "execution_count": 17,
   "metadata": {},
   "outputs": [],
   "source": [
    "def InputQuery(title,abstract,top_k):\n",
    "    input_query = title+\" ||| \"+abstract\n",
    "    input_embeddings = model.encode(input_query)\n",
    "    cos_scores = util.pytorch_cos_sim(input_embeddings, data_embeddings)[0]\n",
    "    # Sort the results in decreasing order and get the first top_k\n",
    "    top_results = np.argpartition(-cos_scores, range(top_k))[0:top_k]\n",
    "\n",
    "    print(\"Input Query:\", input_query, \"\\n\")\n",
    "    print(\"Top\", top_k, \"most similar topics in the corpus:\")\n",
    "    for i in top_results[0:top_k]:\n",
    "        print(wiki_data[i], \"(Score: %.4f)\" % (cos_scores[i]))\n",
    "        print('\\n')"
   ]
  },
  {
   "cell_type": "code",
   "execution_count": 18,
   "metadata": {},
   "outputs": [
    {
     "name": "stdout",
     "output_type": "stream",
     "text": [
      "Motorcycle ||| This is a sound made by the catA motorcycle, often called a motorbike, bike, or cycle, is a two- or three-wheeled motor vehicle. Motorcycle design varies greatly to suit a range of different purposes: long-distance travel, commuting, cruising, sport (including racing), and off-road riding. Motorcycling is riding a motorcycle and being involved in other related social activity such as joining a motorcycle club and attending motorcycle rallies. The 1885 Daimler Reitwagen made by Gottlieb Daimler and Wilhelm Maybach in Germany was the first internal combustion, petroleum-fueled motorcycle. In 1894, Hildebrand & Wolfmüller became the first series production motorcycle. In 2014, the three top motorcycle producers globally by volume were Honda (28%), Yamaha (17%) (both from Japan), and Hero MotoCorp (India).[6] In developing countries, motorcycles are considered utilitarian due to lower prices and greater fuel economy. Of all the motorcycles in the world, 58% are in the Asia-Pacific and Southern and Eastern Asia regions, excluding car-centric Japan.\n"
     ]
    }
   ],
   "source": [
    "InputQuery(\"Programming language \",\"A programming language is a formal language comprising a set of strings that produce various kinds of machine code output. Programming languages are one kind of computer language, and are used in computer programming to implement algorithms.Most programming languages consist of instructions for computers. There are programmable machines that use a set of specific instructions, rather than general programming languages. Since the early 1800s, programs have been used to direct the behavior of machines such as Jacquard looms, music boxes and player pianos.[1] The programs for these machines (such as a player piano's scrolls) did not produce different behavior in response to different inputs or conditions.Thousands of different programming languages have been created, and more are being created every year. Many programming languages are written in an imperative form (i.e., as a sequence of operations to perform) while other languages use the declarative form (i.e. the desired result is specified, not how to achieve it).The description of a programming language is usually split into the two components of syntax (form) and semantics (meaning). Some languages are defined by a specification document (for example, the C programming language is specified by an ISO Standard) while other languages (such as Perl) have a dominant implementation that is treated as a reference. Some languages have both, with the basic language defined by a standard and extensions taken from the dominant implementation being common.\")"
   ]
  },
  {
   "cell_type": "code",
   "execution_count": null,
   "metadata": {},
   "outputs": [],
   "source": []
  }
 ],
 "metadata": {
  "kernelspec": {
   "display_name": "Python 3",
   "language": "python",
   "name": "python3"
  },
  "language_info": {
   "codemirror_mode": {
    "name": "ipython",
    "version": 3
   },
   "file_extension": ".py",
   "mimetype": "text/x-python",
   "name": "python",
   "nbconvert_exporter": "python",
   "pygments_lexer": "ipython3",
   "version": "3.8.5"
  }
 },
 "nbformat": 4,
 "nbformat_minor": 4
}
