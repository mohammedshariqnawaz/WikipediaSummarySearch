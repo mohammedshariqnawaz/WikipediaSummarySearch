{
 "cells": [
  {
   "cell_type": "code",
   "execution_count": 26,
   "metadata": {
    "scrolled": true
   },
   "outputs": [
    {
     "name": "stdout",
     "output_type": "stream",
     "text": [
      "Collecting gradio\n",
      "  Downloading gradio-2.3.9-py3-none-any.whl (3.6 MB)\n",
      "\u001b[K     |████████████████████████████████| 3.6 MB 3.2 MB/s eta 0:00:01\n",
      "\u001b[?25hRequirement already satisfied: pandas in /home/shariq/anaconda3/lib/python3.8/site-packages (from gradio) (1.1.3)\n",
      "Requirement already satisfied: requests in /home/shariq/anaconda3/lib/python3.8/site-packages (from gradio) (2.24.0)\n",
      "Requirement already satisfied: numpy in /home/shariq/anaconda3/lib/python3.8/site-packages (from gradio) (1.19.2)\n",
      "Collecting ffmpy\n",
      "  Downloading ffmpy-0.3.0.tar.gz (4.8 kB)\n",
      "Collecting pydub\n",
      "  Downloading pydub-0.25.1-py2.py3-none-any.whl (32 kB)\n",
      "Collecting paramiko\n",
      "  Downloading paramiko-2.8.0-py2.py3-none-any.whl (206 kB)\n",
      "\u001b[K     |████████████████████████████████| 206 kB 12.7 MB/s eta 0:00:01\n",
      "\u001b[?25hRequirement already satisfied: Flask>=1.1.1 in /home/shariq/anaconda3/lib/python3.8/site-packages (from gradio) (1.1.2)\n",
      "Collecting Flask-Cors>=3.0.8\n",
      "  Downloading Flask_Cors-3.0.10-py2.py3-none-any.whl (14 kB)\n",
      "Collecting analytics-python\n",
      "  Downloading analytics_python-1.4.0-py2.py3-none-any.whl (15 kB)\n",
      "Collecting flask-cachebuster\n",
      "  Downloading Flask-CacheBuster-1.0.0.tar.gz (3.1 kB)\n",
      "Requirement already satisfied: pillow in /home/shariq/anaconda3/lib/python3.8/site-packages (from gradio) (8.1.1)\n",
      "Collecting pycryptodome\n",
      "  Downloading pycryptodome-3.11.0-cp35-abi3-manylinux2010_x86_64.whl (1.9 MB)\n",
      "\u001b[K     |████████████████████████████████| 1.9 MB 17.4 MB/s eta 0:00:01          | 901 kB 17.4 MB/s eta 0:00:01\n",
      "\u001b[?25hRequirement already satisfied: matplotlib in /home/shariq/anaconda3/lib/python3.8/site-packages (from gradio) (3.3.2)\n",
      "Collecting Flask-Login\n",
      "  Downloading Flask_Login-0.5.0-py2.py3-none-any.whl (16 kB)\n",
      "Collecting markdown2\n",
      "  Downloading markdown2-2.4.1-py2.py3-none-any.whl (34 kB)\n",
      "Requirement already satisfied: python-dateutil>=2.7.3 in /home/shariq/anaconda3/lib/python3.8/site-packages (from pandas->gradio) (2.8.1)\n",
      "Requirement already satisfied: pytz>=2017.2 in /home/shariq/anaconda3/lib/python3.8/site-packages (from pandas->gradio) (2020.1)\n",
      "Requirement already satisfied: chardet<4,>=3.0.2 in /home/shariq/anaconda3/lib/python3.8/site-packages (from requests->gradio) (3.0.4)\n",
      "Requirement already satisfied: idna<3,>=2.5 in /home/shariq/anaconda3/lib/python3.8/site-packages (from requests->gradio) (2.10)\n",
      "Requirement already satisfied: urllib3!=1.25.0,!=1.25.1,<1.26,>=1.21.1 in /home/shariq/anaconda3/lib/python3.8/site-packages (from requests->gradio) (1.25.11)\n",
      "Requirement already satisfied: certifi>=2017.4.17 in /home/shariq/anaconda3/lib/python3.8/site-packages (from requests->gradio) (2020.6.20)\n",
      "Collecting bcrypt>=3.1.3\n",
      "  Downloading bcrypt-3.2.0-cp36-abi3-manylinux2010_x86_64.whl (63 kB)\n",
      "\u001b[K     |████████████████████████████████| 63 kB 140 kB/s  eta 0:00:01\n",
      "\u001b[?25hCollecting pynacl>=1.0.1\n",
      "  Downloading PyNaCl-1.4.0-cp35-abi3-manylinux1_x86_64.whl (961 kB)\n",
      "\u001b[K     |████████████████████████████████| 961 kB 14.6 MB/s eta 0:00:01\n",
      "\u001b[?25hRequirement already satisfied: cryptography>=2.5 in /home/shariq/anaconda3/lib/python3.8/site-packages (from paramiko->gradio) (3.3.2)\n",
      "Requirement already satisfied: Jinja2>=2.10.1 in /home/shariq/anaconda3/lib/python3.8/site-packages (from Flask>=1.1.1->gradio) (2.11.2)\n",
      "Requirement already satisfied: Werkzeug>=0.15 in /home/shariq/anaconda3/lib/python3.8/site-packages (from Flask>=1.1.1->gradio) (1.0.1)\n",
      "Requirement already satisfied: itsdangerous>=0.24 in /home/shariq/anaconda3/lib/python3.8/site-packages (from Flask>=1.1.1->gradio) (1.1.0)\n",
      "Requirement already satisfied: click>=5.1 in /home/shariq/anaconda3/lib/python3.8/site-packages (from Flask>=1.1.1->gradio) (7.1.2)\n",
      "Requirement already satisfied: Six in /home/shariq/anaconda3/lib/python3.8/site-packages (from Flask-Cors>=3.0.8->gradio) (1.15.0)\n",
      "Collecting monotonic>=1.5\n",
      "  Downloading monotonic-1.6-py2.py3-none-any.whl (8.2 kB)\n",
      "Collecting backoff==1.10.0\n",
      "  Downloading backoff-1.10.0-py2.py3-none-any.whl (31 kB)\n",
      "Requirement already satisfied: cycler>=0.10 in /home/shariq/anaconda3/lib/python3.8/site-packages (from matplotlib->gradio) (0.10.0)\n",
      "Requirement already satisfied: pyparsing!=2.0.4,!=2.1.2,!=2.1.6,>=2.0.3 in /home/shariq/anaconda3/lib/python3.8/site-packages (from matplotlib->gradio) (2.4.7)\n",
      "Requirement already satisfied: kiwisolver>=1.0.1 in /home/shariq/anaconda3/lib/python3.8/site-packages (from matplotlib->gradio) (1.3.0)\n",
      "Requirement already satisfied: cffi>=1.1 in /home/shariq/anaconda3/lib/python3.8/site-packages (from bcrypt>=3.1.3->paramiko->gradio) (1.14.3)\n",
      "Requirement already satisfied: MarkupSafe>=0.23 in /home/shariq/anaconda3/lib/python3.8/site-packages (from Jinja2>=2.10.1->Flask>=1.1.1->gradio) (1.1.1)\n",
      "Requirement already satisfied: pycparser in /home/shariq/anaconda3/lib/python3.8/site-packages (from cffi>=1.1->bcrypt>=3.1.3->paramiko->gradio) (2.20)\n",
      "Building wheels for collected packages: ffmpy, flask-cachebuster\n",
      "  Building wheel for ffmpy (setup.py) ... \u001b[?25ldone\n",
      "\u001b[?25h  Created wheel for ffmpy: filename=ffmpy-0.3.0-py3-none-any.whl size=4709 sha256=1cc8882e82eb4b7fa051d81d199be36bd4ffe4010adbae101df1d99281374677\n",
      "  Stored in directory: /home/shariq/.cache/pip/wheels/ff/5b/59/913b443e7369dc04b61f607a746b6f7d83fb65e2e19fcc958d\n",
      "  Building wheel for flask-cachebuster (setup.py) ... \u001b[?25ldone\n",
      "\u001b[?25h  Created wheel for flask-cachebuster: filename=Flask_CacheBuster-1.0.0-py3-none-any.whl size=3371 sha256=ce901030f2187e141dea1dbd2fcc8efc2e3c59634b51d57a926d045dada5a1fa\n",
      "  Stored in directory: /home/shariq/.cache/pip/wheels/27/1b/de/34a3e06893944387266e2e7e93d33243589f01ac1b451e367b\n",
      "Successfully built ffmpy flask-cachebuster\n",
      "Installing collected packages: ffmpy, pydub, bcrypt, pynacl, paramiko, Flask-Cors, monotonic, backoff, analytics-python, flask-cachebuster, pycryptodome, Flask-Login, markdown2, gradio\n",
      "Successfully installed Flask-Cors-3.0.10 Flask-Login-0.5.0 analytics-python-1.4.0 backoff-1.10.0 bcrypt-3.2.0 ffmpy-0.3.0 flask-cachebuster-1.0.0 gradio-2.3.9 markdown2-2.4.1 monotonic-1.6 paramiko-2.8.0 pycryptodome-3.11.0 pydub-0.25.1 pynacl-1.4.0\n"
     ]
    }
   ],
   "source": [
    "!pip install gradio"
   ]
  },
  {
   "cell_type": "code",
   "execution_count": 27,
   "metadata": {},
   "outputs": [],
   "source": [
    "import numpy as np\n",
    "import pandas as pd\n",
    "import pickle\n",
    "from sentence_transformers import SentenceTransformer, util\n",
    "import torch, gc\n",
    "import gradio as gr\n",
    "# gc.collect()\n",
    "# torch.cuda.empty_cache()\n",
    "# device = torch.device(\"cpu\")"
   ]
  },
  {
   "cell_type": "code",
   "execution_count": 3,
   "metadata": {
    "scrolled": true
   },
   "outputs": [
    {
     "name": "stdout",
     "output_type": "stream",
     "text": [
      "5315384\n"
     ]
    }
   ],
   "source": [
    "wiki_data = []\n",
    "with open('tokenized.txt','r',encoding='utf8') as file:\n",
    "    for line in enumerate(file):\n",
    "        wiki_data.append(line)\n",
    "\n",
    "print(len(wiki_data))"
   ]
  },
  {
   "cell_type": "code",
   "execution_count": 4,
   "metadata": {
    "scrolled": true
   },
   "outputs": [],
   "source": [
    "model = SentenceTransformer('sentence-transformers/all-MiniLM-L12-v2')\n",
    "# model = SentenceTransformer('sentence-transformers/paraphrase-albert-small-v2')"
   ]
  },
  {
   "cell_type": "code",
   "execution_count": 5,
   "metadata": {
    "scrolled": true
   },
   "outputs": [
    {
     "data": {
      "application/vnd.jupyter.widget-view+json": {
       "model_id": "d8be6767fbb04c11b9ac3a0e173a5801",
       "version_major": 2,
       "version_minor": 0
      },
      "text/plain": [
       "HBox(children=(HTML(value='Batches'), FloatProgress(value=0.0, max=166106.0), HTML(value='')))"
      ]
     },
     "metadata": {},
     "output_type": "display_data"
    },
    {
     "name": "stdout",
     "output_type": "stream",
     "text": [
      "\n"
     ]
    }
   ],
   "source": [
    "# encode corpus to get corpus embeddings\n",
    "\n",
    "# gc.collect()\n",
    "# torch.cuda.empty_cache()\n",
    "\n",
    "data_embeddings = model.encode(wiki_data, show_progress_bar = True)\n",
    "# data_embeddings = model.encode(wiki_data,batch_size=1,convert_to_tensor=True,show_progress_bar = True)\n",
    "\n"
   ]
  },
  {
   "cell_type": "code",
   "execution_count": 6,
   "metadata": {},
   "outputs": [],
   "source": [
    "#Store sentences & embeddings on disc\n",
    "with open('embeddings.pkl', \"wb\") as fOut:\n",
    "    pickle.dump({'wiki_data': wiki_data, 'data_embeddings': data_embeddings}, fOut, protocol=pickle.HIGHEST_PROTOCOL)"
   ]
  },
  {
   "cell_type": "code",
   "execution_count": 6,
   "metadata": {},
   "outputs": [
    {
     "name": "stdout",
     "output_type": "stream",
     "text": [
      "5315384\n"
     ]
    }
   ],
   "source": [
    "# #Load corpus and embeddings from disc\n",
    "with open('embeddings.pkl', \"rb\") as fIn:\n",
    "    stored_data = pickle.load(fIn)\n",
    "    wiki_data = stored_data['wiki_data']\n",
    "    data_embeddings = stored_data['data_embeddings']\n",
    "\n",
    "print(len(wiki_data))"
   ]
  },
  {
   "cell_type": "code",
   "execution_count": 58,
   "metadata": {},
   "outputs": [],
   "source": [
    "def InputQuery(title,abstract,top_k):\n",
    "    input_query = title+\" ||| \"+abstract\n",
    "    input_embeddings = model.encode(input_query)\n",
    "    cos_scores = util.pytorch_cos_sim(input_embeddings, data_embeddings)[0]\n",
    "    # Sort the results in decreasing order and get the first top_k\n",
    "    top_results = np.argpartition(-cos_scores, range(top_k))[0:top_k]\n",
    "    output = []\n",
    "    print(\"Input Query:\", input_query, \"\\n\")\n",
    "    print(\"Top\", top_k, \"most similar topics in the corpus:\")\n",
    "    for i in top_results[0:top_k]:\n",
    "        output.append(str(wiki_data[i]) + \"----->\"+ \"(Score: %.4f)\" % (cos_scores[i])+\"\\n\")\n",
    "#         print(wiki_data[i], \"(Score: %.4f)\" % (cos_scores[i]))\n",
    "#         print('\\n')\n",
    "    output= '\\n'.join(output)\n",
    "    return output"
   ]
  },
  {
   "cell_type": "code",
   "execution_count": 23,
   "metadata": {
    "collapsed": true
   },
   "outputs": [
    {
     "name": "stdout",
     "output_type": "stream",
     "text": [
      "Input Query: Programming language  ||| A programming language is a formal language comprising a set of strings that produce various kinds of machine code output. Programming languages are one kind of computer language, and are used in computer programming to implement algorithms.Most programming languages consist of instructions for computers. There are programmable machines that use a set of specific instructions, rather than general programming languages. Since the early 1800s, programs have been used to direct the behavior of machines such as Jacquard looms, music boxes and player pianos.[1] The programs for these machines (such as a player piano's scrolls) did not produce different behavior in response to different inputs or conditions.Thousands of different programming languages have been created, and more are being created every year. Many programming languages are written in an imperative form (i.e., as a sequence of operations to perform) while other languages use the declarative form (i.e. the desired result is specified, not how to achieve it).The description of a programming language is usually split into the two components of syntax (form) and semantics (meaning). Some languages are defined by a specification document (for example, the C programming language is specified by an ISO Standard) while other languages (such as Perl) have a dominant implementation that is treated as a reference. Some languages have both, with the basic language defined by a standard and extensions taken from the dominant implementation being common. \n",
      "\n",
      "Top 5 most similar topics in the corpus:\n",
      "(32315, \"Computer language ||| Computer language may refer to : Programming language , a formal language designed to communicate instructions to a machine , particularly a computer Command language , a language used to control the tasks of the computer itself , such as starting other programs Machine language or machine code , a set of instructions executed directly by a computer 's central processing unit Markup language , a grammar for annotating a document in a way that is syntactically distinguishable from the text , such as HTML Style sheet language , a computer language that expresses the presentation of structured documents , such as CSS Configuration language , a language used to write configuration files Construction language , a general category that includes configuration languages , toolkit languages , and programming languages Query language , a language used to make queries in databases and information systems Modeling language , a formal language used to express information or knowledge , often for use in computer system design Hardware description language , used to model integrated circuits\\n\") (Score: 0.7909)\n",
      "\n",
      "\n",
      "(2608, \"Computer program ||| A computer program is a collection of instructions that performs a specific task when executed by a computer . A computer requires programs to function and typically executes the program 's instructions in a central processing unit . A computer program is usually written by a computer programmer in a programming language . From the program in its human-readable form of source code , a compiler can derive machine code—a form consisting of instructions that the computer can directly execute . Alternatively , a computer program may be executed with the aid of an interpreter . A part of a computer program that performs a well-defined task is known as an algorithm . A collection of computer programs , libraries , and related data are referred to as software . Computer programs may be categorized along functional lines , such as application software or system software .\\n\") (Score: 0.7744)\n",
      "\n",
      "\n",
      "(2329692, 'Program ( machine ) ||| A program is a set of instructions used to control the behavior of a machine , often a computer ( in this case it is known as a computer program ) . Examples of programs include : The sequence of cards used by a Jacquard loom to produce a given pattern within weaved cloth . Invented in 1801 , it used holes in punched cards to represent sewing loom arm movements in order to generate decorative patterns automatically . A computer program list of instructions to be executed by a computer . Barrels , punched cards and music rolls encoding music to be played by player pianos , fairground organs , barrel organs and music boxes . The execution of a program is a series of actions following the instructions it contains . Each instruction produces effects that alter the state of the machine according to its predefined meaning . While some machines are called programmable , for example a programmable thermostat or a musical synthesizer , they are in fact just devices which allow their users to select among a fixed set of a variety of options , rather than being controlled by programs written in a language ( be it textual , visual or otherwise ) .\\n') (Score: 0.7724)\n",
      "\n",
      "\n",
      "(11272, \"Programming language ||| A programming language is a formal language that specifies a set of instructions that can be used to produce various kinds of output . Programming languages generally consist of instructions for a computer . Programming languages can be used to create programs that implement specific algorithms . The earliest known programmable machine preceded the invention of the digital computer was the automatic flute player described in the 9th century by the brothers Musa in Baghdad , during the Islamic Golden Age . From the early 1800s , `` programs '' were used to direct the behavior of machines such as Jacquard looms and player pianos . Thousands of different programming languages have been created , mainly in the computer field , and many more still are being created every year . Many programming languages require computation to be specified in an imperative form ( i.e. , as a sequence of operations to perform ) while other languages use other forms of program specification such as the declarative form ( i.e . the desired result is specified , not how to achieve it ) . The description of a programming language is usually split into the two components of syntax ( form ) and semantics ( meaning ) . Some languages are defined by a specification document ( for example , the C programming language is specified by an ISO Standard ) while other languages ( such as Perl ) have a dominant implementation that is treated as a reference . Some languages have both , with the basic language defined by a standard and extensions taken from the dominant implementation being common .\\n\") (Score: 0.7699)\n",
      "\n",
      "\n",
      "(2348, 'Computer programming ||| Computer programming ( often shortened to programming ) is a process that leads from an original formulation of a computing problem to executable computer programs . Programming involves activities such as analysis , developing understanding , generating algorithms , verification of requirements of algorithms including their correctness and resources consumption , and implementation ( commonly referred to as coding ) of algorithms in a target programming language . Source code is written in one or more programming languages . The purpose of programming is to find a sequence of instructions that will automate performing a specific task or solving a given problem . The process of programming thus often requires expertise in many different subjects , including knowledge of the application domain , specialized algorithms , and formal logic . Related tasks include testing , debugging , and maintaining the source code , implementation of the build system , and management of derived artifacts such as machine code of computer programs . These might be considered part of the programming process , but often the term software development is used for this larger process with the term programming , implementation , or coding reserved for the actual writing of source code . Software engineering combines engineering techniques with software development practices .\\n') (Score: 0.7679)\n",
      "\n",
      "\n"
     ]
    }
   ],
   "source": [
    "InputQuery(5,\"Programming language \",\"A programming language is a formal language comprising a set of strings that produce various kinds of machine code output. Programming languages are one kind of computer language, and are used in computer programming to implement algorithms.Most programming languages consist of instructions for computers. There are programmable machines that use a set of specific instructions, rather than general programming languages. Since the early 1800s, programs have been used to direct the behavior of machines such as Jacquard looms, music boxes and player pianos.[1] The programs for these machines (such as a player piano's scrolls) did not produce different behavior in response to different inputs or conditions.Thousands of different programming languages have been created, and more are being created every year. Many programming languages are written in an imperative form (i.e., as a sequence of operations to perform) while other languages use the declarative form (i.e. the desired result is specified, not how to achieve it).The description of a programming language is usually split into the two components of syntax (form) and semantics (meaning). Some languages are defined by a specification document (for example, the C programming language is specified by an ISO Standard) while other languages (such as Perl) have a dominant implementation that is treated as a reference. Some languages have both, with the basic language defined by a standard and extensions taken from the dominant implementation being common.\")"
   ]
  },
  {
   "cell_type": "code",
   "execution_count": 24,
   "metadata": {
    "collapsed": true
   },
   "outputs": [
    {
     "name": "stdout",
     "output_type": "stream",
     "text": [
      "Input Query: Motorcycle ||| This is a sound made by the catA motorcycle, often called a motorbike, bike, or cycle, is a two- or three-wheeled motor vehicle. Motorcycle design varies greatly to suit a range of different purposes: long-distance travel, commuting, cruising, sport (including racing), and off-road riding. Motorcycling is riding a motorcycle and being involved in other related social activity such as joining a motorcycle club and attending motorcycle rallies. The 1885 Daimler Reitwagen made by Gottlieb Daimler and Wilhelm Maybach in Germany was the first internal combustion, petroleum-fueled motorcycle. In 1894, Hildebrand & Wolfmüller became the first series production motorcycle. In 2014, the three top motorcycle producers globally by volume were Honda (28%), Yamaha (17%) (both from Japan), and Hero MotoCorp (India).[6] In developing countries, motorcycles are considered utilitarian due to lower prices and greater fuel economy. Of all the motorcycles in the world, 58% are in the Asia-Pacific and Southern and Eastern Asia regions, excluding car-centric Japan. \n",
      "\n",
      "Top 5 most similar topics in the corpus:\n",
      "(9717, 'Motorcycle ||| A motorcycle often called a bike , motorbike , or cycle is a two- or three-wheeled motor vehicle . Motorcycle design varies greatly to suit a range of different purposes : long distance travel , commuting , cruising , sport including racing , and off-road riding . Motorcycling is riding a motorcycle and related social activity such as joining a motorcycle club and attending motorcycle rallies . In 1894 , Hildebrand & Wolfmüller became the first series production motorcycle , and the first to be called a motorcycle . In 2014 , the three top motorcycle producers globally by volume were Honda , Yamaha ( both from Japan ) , and Hero MotoCorp ( India ) . In developing countries , motorcycles are overwhelmingly utilitarian due to lower prices and greater fuel economy . Of all the motorcycles in the world , 58 % are in the Asia-Pacific and Southern and Eastern Asia regions , excluding car-centric Japan . According to the United States Department of Transportation the number of fatalities per vehicle mile traveled was 37 times higher for motorcycles than for cars .\\n') (Score: 0.8352)\n",
      "\n",
      "\n",
      "(1543853, \"Motorcycle ( disambiguation ) ||| A motorcycle is a single-track two-wheeled motor vehicle . It is also known as a motorbike . Motorcycle may also refer to : Motor Cycle ( magazine ) , a UK publication from 1962 , previously named The Motor Cycle Motor Cycle Weekly ( magazine ) , a UK publication from 1977 , previously named Motor Cycle and The Motor Cycle Motorcycle Mechanics ( magazine ) , a UK publication from 1959 Electric motorcycles and scooters , vehicles with two or three wheels that use electric motors to attain locomotion Moped , a class of low-powered motorized vehicles , generally with two wheels Motorized bicycle , a bicycle with an attached motor used to assist with pedalling Motorized scooter , a vehicle consisting of a footboard mounted on two wheels and a long steering handle , propelled by a small motor Motorized tricycle , similar to a motorcycle , but with three wheels Motor scooter , a two-wheeled motorized vehicle with a step-through frame Motorcycles ( film ) , a 1949 Czech film David Mann ( artist ) , a painter of biker culture Gabriel & Dresden 's trance act formed by the duo and Jes Brieden Motorcycle , a song by the Devonshire band The Rumble Strips MotorCycle , a 1993 album by rock band Daniel Amos Motorcycle ( band ) , 2003-2005 Band consisting of Jes Brieden , Josh Gabriel and Dave Dresden . Motor-Cycle ( album ) , an album by Lotti Golden on Atlantic Records\\n\") (Score: 0.7680)\n",
      "\n",
      "\n",
      "(1420202, \"History of the motorcycle ||| The history of the motorcycle begins in the second half of the 19th century . Motorcycles are descended from the `` safety bicycle , '' a bicycle with front and rear wheels of the same size and a pedal crank mechanism to drive the rear wheel . Despite some early landmarks in its development , the motorcycle lacks a rigid pedigree that can be traced back to a single idea or machine . Instead , the idea seems to have occurred to numerous engineers and inventors around Europe at around the same time .\\n\") (Score: 0.7516)\n",
      "\n",
      "\n",
      "(3315486, 'Outline of motorcycles and motorcycling ||| The following outline is provided as an overview of motorcycles and motorcycling : Motorcycle — two-wheeled , single-track motor vehicle . Other names include : motorbike , bike , and cycle . Motorcycling — act of riding a motorcycle , around which a variety of subcultures and lifestyles have built up .\\n') (Score: 0.7463)\n",
      "\n",
      "\n",
      "(3432264, \"Daimler Reitwagen ||| The Daimler Petroleum Reitwagen ( `` riding car '' ) or Einspur ( `` single track '' ) was a motor vehicle made by Gottlieb Daimler and Wilhelm Maybach in 1885 . It is widely recognized as the first motorcycle . Daimler is often called `` the father of the motorcycle '' for this invention . Even when the three steam powered two wheelers that preceded the Reitwagen , the Michaux-Perreaux and Roper of 1867–1869 , and the 1884 Copeland , are considered motorcycles , it remains nonetheless the first gasoline internal combustion motorcycle , and the forerunner of all vehicles , land , sea and air , that use its overwhelmingly popular engine type .\\n\") (Score: 0.7156)\n",
      "\n",
      "\n"
     ]
    }
   ],
   "source": [
    "InputQuery(5,\"Motorcycle\",\"This is a sound made by the catA motorcycle, often called a motorbike, bike, or cycle, is a two- or three-wheeled motor vehicle. Motorcycle design varies greatly to suit a range of different purposes: long-distance travel, commuting, cruising, sport (including racing), and off-road riding. Motorcycling is riding a motorcycle and being involved in other related social activity such as joining a motorcycle club and attending motorcycle rallies. The 1885 Daimler Reitwagen made by Gottlieb Daimler and Wilhelm Maybach in Germany was the first internal combustion, petroleum-fueled motorcycle. In 1894, Hildebrand & Wolfmüller became the first series production motorcycle. In 2014, the three top motorcycle producers globally by volume were Honda (28%), Yamaha (17%) (both from Japan), and Hero MotoCorp (India).[6] In developing countries, motorcycles are considered utilitarian due to lower prices and greater fuel economy. Of all the motorcycles in the world, 58% are in the Asia-Pacific and Southern and Eastern Asia regions, excluding car-centric Japan.\")"
   ]
  },
  {
   "cell_type": "code",
   "execution_count": 59,
   "metadata": {},
   "outputs": [
    {
     "name": "stdout",
     "output_type": "stream",
     "text": [
      "Running locally at: http://127.0.0.1:7876/\n",
      "This share link will expire in 72 hours. If you need a permanent link, visit: https://gradio.app/introducing-hosted\n",
      "Running on External URL: https://12569.gradio.app\n"
     ]
    },
    {
     "data": {
      "text/html": [
       "\n",
       "        <iframe\n",
       "            width=\"900\"\n",
       "            height=\"500\"\n",
       "            src=\"https://12569.gradio.app\"\n",
       "            frameborder=\"0\"\n",
       "            allowfullscreen\n",
       "        ></iframe>\n",
       "        "
      ],
      "text/plain": [
       "<IPython.lib.display.IFrame at 0x7f154319b610>"
      ]
     },
     "metadata": {},
     "output_type": "display_data"
    },
    {
     "data": {
      "text/plain": [
       "(<Flask 'gradio.networking'>,\n",
       " 'http://127.0.0.1:7876/',\n",
       " 'https://12569.gradio.app')"
      ]
     },
     "execution_count": 59,
     "metadata": {},
     "output_type": "execute_result"
    },
    {
     "name": "stdout",
     "output_type": "stream",
     "text": [
      "Input Query: Programming Language ||| A programming language is a formal language comprising a set of strings that produce various kinds of machine code output. Programming languages are one kind of computer language, and are used in computer programming to implement algorithms.  Most programming languages consist of instructions for computers. There are programmable machines that use a set of specific instructions, rather than general programming languages. Since the early 1800s, programs have been used to direct the behavior of machines such as Jacquard looms, music boxes and player pianos.[1] The programs for these machines (such as a player piano's scrolls) did not produce different behavior in response to different inputs or conditions.  Thousands of different programming languages have been created, and more are being created every year. Many programming languages are written in an imperative form (i.e., as a sequence of operations to perform) while other languages use the declarative form (i.e. the desired result is specified, not how to achieve it).  The description of a programming language is usually split into the two components of syntax (form) and semantics (meaning). Some languages are defined by a specification document (for example, the C programming language is specified by an ISO Standard) while other languages (such as Perl) have a dominant implementation that is treated as a reference. Some languages have both, with the basic language defined by a standard and extensions taken from the dominant implementation being common.  Programming language theory is a subfield of computer science that deals with the design, implementation, analysis, characterization, and classification of programming languages. \n",
      "\n",
      "Top 3 most similar topics in the corpus:\n",
      "Input Query: Programming Language ||| A programming language is a formal language comprising a set of strings that produce various kinds of machine code output. Programming languages are one kind of computer language, and are used in computer programming to implement algorithms.  Most programming languages consist of instructions for computers. There are programmable machines that use a set of specific instructions, rather than general programming languages. Since the early 1800s, programs have been used to direct the behavior of machines such as Jacquard looms, music boxes and player pianos.[1] The programs for these machines (such as a player piano's scrolls) did not produce different behavior in response to different inputs or conditions.  Thousands of different programming languages have been created, and more are being created every year. Many programming languages are written in an imperative form (i.e., as a sequence of operations to perform) while other languages use the declarative form (i.e. the desired result is specified, not how to achieve it).  The description of a programming language is usually split into the two components of syntax (form) and semantics (meaning). Some languages are defined by a specification document (for example, the C programming language is specified by an ISO Standard) while other languages (such as Perl) have a dominant implementation that is treated as a reference. Some languages have both, with the basic language defined by a standard and extensions taken from the dominant implementation being common.  Programming language theory is a subfield of computer science that deals with the design, implementation, analysis, characterization, and classification of programming languages. \n",
      "\n",
      "Top 4 most similar topics in the corpus:\n"
     ]
    },
    {
     "name": "stderr",
     "output_type": "stream",
     "text": [
      "[2021-10-19 11:44:06,000] ERROR in app: Exception on /api/flag/ [POST]\n",
      "Traceback (most recent call last):\n",
      "  File \"/home/shariq/anaconda3/lib/python3.8/site-packages/flask/app.py\", line 2447, in wsgi_app\n",
      "    response = self.full_dispatch_request()\n",
      "  File \"/home/shariq/anaconda3/lib/python3.8/site-packages/flask/app.py\", line 1952, in full_dispatch_request\n",
      "    rv = self.handle_user_exception(e)\n",
      "  File \"/home/shariq/anaconda3/lib/python3.8/site-packages/flask_cors/extension.py\", line 165, in wrapped_function\n",
      "    return cors_after_request(app.make_response(f(*args, **kwargs)))\n",
      "  File \"/home/shariq/anaconda3/lib/python3.8/site-packages/flask/app.py\", line 1821, in handle_user_exception\n",
      "    reraise(exc_type, exc_value, tb)\n",
      "  File \"/home/shariq/anaconda3/lib/python3.8/site-packages/flask/_compat.py\", line 39, in reraise\n",
      "    raise value\n",
      "  File \"/home/shariq/anaconda3/lib/python3.8/site-packages/flask/app.py\", line 1950, in full_dispatch_request\n",
      "    rv = self.dispatch_request()\n",
      "  File \"/home/shariq/anaconda3/lib/python3.8/site-packages/flask/app.py\", line 1936, in dispatch_request\n",
      "    return self.view_functions[rule.endpoint](**req.view_args)\n",
      "  File \"/home/shariq/anaconda3/lib/python3.8/site-packages/gradio/networking.py\", line 89, in wrapper\n",
      "    return func(*args, **kwargs)\n",
      "  File \"/home/shariq/anaconda3/lib/python3.8/site-packages/gradio/networking.py\", line 292, in flag\n",
      "    flag_data(data['input_data'], data['output_data'], data.get(\"flag_option\"), data.get(\"flag_index\"),\n",
      "  File \"/home/shariq/anaconda3/lib/python3.8/site-packages/gradio/networking.py\", line 220, in flag_data\n",
      "    flag_path, app.interface.config[\"input_components\"][i][\"label\"], input_data[i], encryption_key))\n",
      "IndexError: list index out of range\n"
     ]
    },
    {
     "name": "stdout",
     "output_type": "stream",
     "text": [
      "Input Query: Programming Language ||| A programming language is a formal language comprising a set of strings that produce various kinds of machine code output. Programming languages are one kind of computer language, and are used in computer programming to implement algorithms.  Most programming languages consist of instructions for computers. There are programmable machines that use a set of specific instructions, rather than general programming languages. Since the early 1800s, programs have been used to direct the behavior of machines such as Jacquard looms, music boxes and player pianos.[1] The programs for these machines (such as a player piano's scrolls) did not produce different behavior in response to different inputs or conditions.  Thousands of different programming languages have been created, and more are being created every year. Many programming languages are written in an imperative form (i.e., as a sequence of operations to perform) while other languages use the declarative form (i.e. the desired result is specified, not how to achieve it).  The description of a programming language is usually split into the two components of syntax (form) and semantics (meaning). Some languages are defined by a specification document (for example, the C programming language is specified by an ISO Standard) while other languages (such as Perl) have a dominant implementation that is treated as a reference. Some languages have both, with the basic language defined by a standard and extensions taken from the dominant implementation being common.  Programming language theory is a subfield of computer science that deals with the design, implementation, analysis, characterization, and classification of programming languages. \n",
      "\n",
      "Top 2 most similar topics in the corpus:\n"
     ]
    }
   ],
   "source": [
    "# output_text = for i in range(5):\n",
    "    \n",
    "iface = gr.Interface(InputQuery,inputs=[\"text\",\"text\", gr.inputs.Slider(1,5,1)],outputs= \"text\")\n",
    "iface.launch(share=True)"
   ]
  },
  {
   "cell_type": "code",
   "execution_count": null,
   "metadata": {},
   "outputs": [],
   "source": []
  }
 ],
 "metadata": {
  "kernelspec": {
   "display_name": "Python 3",
   "language": "python",
   "name": "python3"
  },
  "language_info": {
   "codemirror_mode": {
    "name": "ipython",
    "version": 3
   },
   "file_extension": ".py",
   "mimetype": "text/x-python",
   "name": "python",
   "nbconvert_exporter": "python",
   "pygments_lexer": "ipython3",
   "version": "3.8.5"
  }
 },
 "nbformat": 4,
 "nbformat_minor": 4
}
